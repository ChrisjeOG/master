{
 "cells": [
  {
   "cell_type": "code",
   "execution_count": 119,
   "metadata": {},
   "outputs": [],
   "source": [
    "import praw\n",
    "import pandas as pd"
   ]
  },
  {
   "cell_type": "code",
   "execution_count": 120,
   "metadata": {},
   "outputs": [],
   "source": [
    "CLIENT_ID = \"jPszoCPfw5oYGg\"\n",
    "CLIENT_SECRET = \"J3w-3cWDzVzAz2DwlRQsqpsWiYE\"\n",
    "USER_AGENT = f\"python:{CLIENT_ID}:0.1 (by /u/chrisjeogmaster)\""
   ]
  },
  {
   "cell_type": "code",
   "execution_count": 121,
   "metadata": {},
   "outputs": [],
   "source": [
    "api = praw.Reddit(\n",
    "    client_id = CLIENT_ID,\n",
    "    client_secret = CLIENT_SECRET,\n",
    "    user_agent = USER_AGENT\n",
    ")"
   ]
  },
  {
   "cell_type": "code",
   "execution_count": 122,
   "metadata": {},
   "outputs": [
    {
     "data": {
      "text/plain": [
       "True"
      ]
     },
     "execution_count": 122,
     "metadata": {},
     "output_type": "execute_result"
    }
   ],
   "source": [
    "api.read_only"
   ]
  },
  {
   "cell_type": "code",
   "execution_count": 123,
   "metadata": {},
   "outputs": [],
   "source": [
    "submissions = api.subreddit(\"askreddit\").hot(limit = 10)"
   ]
  },
  {
   "cell_type": "code",
   "execution_count": 124,
   "metadata": {},
   "outputs": [],
   "source": [
    "new_list = []\n",
    "for submission in submissions:\n",
    "    new_list.append({\n",
    "        \"title\" : submission.title,\n",
    "        \"score\" : submission.score,\n",
    "        \"comments\" : submission.num_comments\n",
    "    })"
   ]
  },
  {
   "cell_type": "code",
   "execution_count": 125,
   "metadata": {},
   "outputs": [
    {
     "name": "stdout",
     "output_type": "stream",
     "text": [
      "[{'title': 'What was the cringiest thing you did in your first relationship?', 'score': 28604, 'comments': 11322}, {'title': 'What’s the dumbest thing you’ve heard someone say that made you wonder how they function on a day to day basis?', 'score': 52443, 'comments': 29799}, {'title': 'What is something that HAS aged well?', 'score': 5737, 'comments': 6554}, {'title': 'What is something that MOST adults can do, but you, for whatever reason, cannot pull off?', 'score': 361, 'comments': 690}, {'title': 'What have we all conveniently forgotten about?', 'score': 5498, 'comments': 5170}, {'title': 'What made you laugh the hardest in your entire life?', 'score': 8233, 'comments': 3969}, {'title': 'What is the worst thing to cheap out on?', 'score': 649, 'comments': 921}, {'title': \"What is the most physically painful thing you've ever gone through?\", 'score': 374, 'comments': 820}, {'title': \"Men of reddit, what do women do that they think is sexy, but actually isn't?\", 'score': 776, 'comments': 1655}, {'title': \"What's an experience you don't ever want to go through again?\", 'score': 5031, 'comments': 4939}]\n"
     ]
    }
   ],
   "source": [
    "print(new_list)"
   ]
  },
  {
   "cell_type": "code",
   "execution_count": 126,
   "metadata": {},
   "outputs": [
    {
     "data": {
      "text/html": [
       "<div>\n",
       "<style scoped>\n",
       "    .dataframe tbody tr th:only-of-type {\n",
       "        vertical-align: middle;\n",
       "    }\n",
       "\n",
       "    .dataframe tbody tr th {\n",
       "        vertical-align: top;\n",
       "    }\n",
       "\n",
       "    .dataframe thead th {\n",
       "        text-align: right;\n",
       "    }\n",
       "</style>\n",
       "<table border=\"1\" class=\"dataframe\">\n",
       "  <thead>\n",
       "    <tr style=\"text-align: right;\">\n",
       "      <th></th>\n",
       "      <th>comments</th>\n",
       "      <th>score</th>\n",
       "      <th>title</th>\n",
       "    </tr>\n",
       "  </thead>\n",
       "  <tbody>\n",
       "    <tr>\n",
       "      <th>0</th>\n",
       "      <td>11322</td>\n",
       "      <td>28604</td>\n",
       "      <td>What was the cringiest thing you did in your f...</td>\n",
       "    </tr>\n",
       "    <tr>\n",
       "      <th>1</th>\n",
       "      <td>29799</td>\n",
       "      <td>52443</td>\n",
       "      <td>What’s the dumbest thing you’ve heard someone ...</td>\n",
       "    </tr>\n",
       "    <tr>\n",
       "      <th>2</th>\n",
       "      <td>6554</td>\n",
       "      <td>5737</td>\n",
       "      <td>What is something that HAS aged well?</td>\n",
       "    </tr>\n",
       "    <tr>\n",
       "      <th>3</th>\n",
       "      <td>690</td>\n",
       "      <td>361</td>\n",
       "      <td>What is something that MOST adults can do, but...</td>\n",
       "    </tr>\n",
       "    <tr>\n",
       "      <th>4</th>\n",
       "      <td>5170</td>\n",
       "      <td>5498</td>\n",
       "      <td>What have we all conveniently forgotten about?</td>\n",
       "    </tr>\n",
       "  </tbody>\n",
       "</table>\n",
       "</div>"
      ],
      "text/plain": [
       "   comments  score                                              title\n",
       "0     11322  28604  What was the cringiest thing you did in your f...\n",
       "1     29799  52443  What’s the dumbest thing you’ve heard someone ...\n",
       "2      6554   5737              What is something that HAS aged well?\n",
       "3       690    361  What is something that MOST adults can do, but...\n",
       "4      5170   5498     What have we all conveniently forgotten about?"
      ]
     },
     "execution_count": 126,
     "metadata": {},
     "output_type": "execute_result"
    }
   ],
   "source": [
    "df = pd.DataFrame(new_list)\n",
    "df.head(5)"
   ]
  },
  {
   "cell_type": "code",
   "execution_count": 127,
   "metadata": {},
   "outputs": [],
   "source": [
    "df.to_json(\"api_exerciseChrisje.json\")"
   ]
  },
  {
   "cell_type": "code",
   "execution_count": 128,
   "metadata": {},
   "outputs": [],
   "source": [
    "df = pd.read_json(\"api_exerciseChrisje.json\")"
   ]
  },
  {
   "cell_type": "code",
   "execution_count": 129,
   "metadata": {},
   "outputs": [
    {
     "data": {
      "text/html": [
       "<div>\n",
       "<style scoped>\n",
       "    .dataframe tbody tr th:only-of-type {\n",
       "        vertical-align: middle;\n",
       "    }\n",
       "\n",
       "    .dataframe tbody tr th {\n",
       "        vertical-align: top;\n",
       "    }\n",
       "\n",
       "    .dataframe thead th {\n",
       "        text-align: right;\n",
       "    }\n",
       "</style>\n",
       "<table border=\"1\" class=\"dataframe\">\n",
       "  <thead>\n",
       "    <tr style=\"text-align: right;\">\n",
       "      <th></th>\n",
       "      <th>comments</th>\n",
       "      <th>score</th>\n",
       "      <th>title</th>\n",
       "    </tr>\n",
       "  </thead>\n",
       "  <tbody>\n",
       "    <tr>\n",
       "      <th>0</th>\n",
       "      <td>11322</td>\n",
       "      <td>28604</td>\n",
       "      <td>What was the cringiest thing you did in your f...</td>\n",
       "    </tr>\n",
       "    <tr>\n",
       "      <th>1</th>\n",
       "      <td>29799</td>\n",
       "      <td>52443</td>\n",
       "      <td>What’s the dumbest thing you’ve heard someone ...</td>\n",
       "    </tr>\n",
       "    <tr>\n",
       "      <th>2</th>\n",
       "      <td>6554</td>\n",
       "      <td>5737</td>\n",
       "      <td>What is something that HAS aged well?</td>\n",
       "    </tr>\n",
       "    <tr>\n",
       "      <th>3</th>\n",
       "      <td>690</td>\n",
       "      <td>361</td>\n",
       "      <td>What is something that MOST adults can do, but...</td>\n",
       "    </tr>\n",
       "    <tr>\n",
       "      <th>4</th>\n",
       "      <td>5170</td>\n",
       "      <td>5498</td>\n",
       "      <td>What have we all conveniently forgotten about?</td>\n",
       "    </tr>\n",
       "  </tbody>\n",
       "</table>\n",
       "</div>"
      ],
      "text/plain": [
       "   comments  score                                              title\n",
       "0     11322  28604  What was the cringiest thing you did in your f...\n",
       "1     29799  52443  What’s the dumbest thing you’ve heard someone ...\n",
       "2      6554   5737              What is something that HAS aged well?\n",
       "3       690    361  What is something that MOST adults can do, but...\n",
       "4      5170   5498     What have we all conveniently forgotten about?"
      ]
     },
     "execution_count": 129,
     "metadata": {},
     "output_type": "execute_result"
    }
   ],
   "source": [
    "df.head(5)"
   ]
  },
  {
   "cell_type": "code",
   "execution_count": 130,
   "metadata": {},
   "outputs": [
    {
     "data": {
      "text/plain": [
       "<matplotlib.axes._subplots.AxesSubplot at 0x123519470>"
      ]
     },
     "execution_count": 130,
     "metadata": {},
     "output_type": "execute_result"
    },
    {
     "data": {
      "image/png": "[encoded data removed]",
      "text/plain": [
       "<Figure size 432x288 with 1 Axes>"
      ]
     },
     "metadata": {},
     "output_type": "display_data"
    }
   ],
   "source": [
    "df.plot(kind = \"hist\", y = \"score\", bins = 10, title = \"exercise A\")"
   ]
  },
  {
   "cell_type": "code",
   "execution_count": 131,
   "metadata": {},
   "outputs": [
    {
     "data": {
      "image/png": "[encoded data removed]",
      "text/plain": [
       "<Figure size 432x288 with 1 Axes>"
      ]
     },
     "metadata": {},
     "output_type": "display_data"
    }
   ],
   "source": [
    "high = df.sort_values(\"score\", ascending = False) #volgorde omkeren\n",
    "high[0:5].plot(y = \"score\", x = \"comments\", kind = \"barh\", title = \"exercise B\")\n",
    "highest = df[\"score\"].max()"
   ]
  },
  {
   "cell_type": "code",
   "execution_count": 132,
   "metadata": {},
   "outputs": [
    {
     "name": "stdout",
     "output_type": "stream",
     "text": [
      "52443\n"
     ]
    }
   ],
   "source": [
    "print(highest.max())"
   ]
  },
  {
   "cell_type": "code",
   "execution_count": 133,
   "metadata": {},
   "outputs": [],
   "source": [
    "allscores = df.score.sum()"
   ]
  },
  {
   "cell_type": "code",
   "execution_count": 134,
   "metadata": {},
   "outputs": [],
   "source": [
    "newlist = [allscores, highest]\n",
    "newdf = pd.DataFrame(newlist)"
   ]
  },
  {
   "cell_type": "code",
   "execution_count": 135,
   "metadata": {},
   "outputs": [
    {
     "data": {
      "text/plain": [
       "array([<matplotlib.axes._subplots.AxesSubplot object at 0x122625748>],\n",
       "      dtype=object)"
      ]
     },
     "execution_count": 135,
     "metadata": {},
     "output_type": "execute_result"
    },
    {
     "data": {
      "image/png": "[encoded data removed]",
      "text/plain": [
       "<Figure size 432x288 with 1 Axes>"
      ]
     },
     "metadata": {},
     "output_type": "display_data"
    }
   ],
   "source": [
    "newdf.plot.pie(subplots=True, title = \"exercise C\")"
   ]
  },
  {
   "cell_type": "code",
   "execution_count": 136,
   "metadata": {},
   "outputs": [
    {
     "data": {
      "text/plain": [
       "<matplotlib.axes._subplots.AxesSubplot at 0x1229a0630>"
      ]
     },
     "execution_count": 136,
     "metadata": {},
     "output_type": "execute_result"
    },
    {
     "data": {
      "image/png": "[encoded data removed]",
      "text/plain": [
       "<Figure size 432x288 with 1 Axes>"
      ]
     },
     "metadata": {},
     "output_type": "display_data"
    }
   ],
   "source": [
    "high[0:5].plot(y = [\"score\", \"comments\"], kind = \"barh\", title = \"exercise D\")"
   ]
  },
  {
   "cell_type": "code",
   "execution_count": 142,
   "metadata": {},
   "outputs": [
    {
     "data": {
      "text/plain": [
       "<matplotlib.axes._subplots.AxesSubplot at 0x12459f748>"
      ]
     },
     "execution_count": 142,
     "metadata": {},
     "output_type": "execute_result"
    },
    {
     "data": {
      "image/png": "[encoded data removed]",
      "text/plain": [
       "<Figure size 432x288 with 1 Axes>"
      ]
     },
     "metadata": {},
     "output_type": "display_data"
    }
   ],
   "source": [
    "high['title'] = high['title'].apply(lambda x: x[0:20]) +\".... \"\n",
    "high[0:5].plot(y = [\"score\", \"comments\"], x = \"title\", kind = \"barh\", title = \"exercise D\")"
   ]
  },
  {
   "cell_type": "code",
   "execution_count": null,
   "metadata": {},
   "outputs": [],
   "source": []
  }
 ],
 "metadata": {
  "kernelspec": {
   "display_name": "Python 3",
   "language": "python",
   "name": "python3"
  },
  "language_info": {
   "codemirror_mode": {
    "name": "ipython",
    "version": 3
   },
   "file_extension": ".py",
   "mimetype": "text/x-python",
   "name": "python",
   "nbconvert_exporter": "python",
   "pygments_lexer": "ipython3",
   "version": "3.6.5"
  }
 },
 "nbformat": 4,
 "nbformat_minor": 2
}
